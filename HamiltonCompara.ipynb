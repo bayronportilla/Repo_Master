{
 "cells": [
  {
   "cell_type": "code",
   "execution_count": 29,
   "metadata": {
    "collapsed": true
   },
   "outputs": [],
   "source": [
    "import numpy as np\n",
    "import matplotlib.pyplot as plt\n",
    "\n",
    "G=6.67e-11\n",
    "Msun=1.989e30\n",
    "Mjup=1.898e27\n",
    "AU=149.6e9\n",
    "InRad=np.pi/180\n",
    "\n",
    "m1=1*Msun\n",
    "m2=1*Mjup\n",
    "m3=40*Mjup\n",
    "\n",
    "a1=6*AU\n",
    "a2=100*AU\n",
    "e1=0.001\n",
    "e2=0.6\n",
    "I1=64.7*InRad\n",
    "I2=0.3*InRad\n",
    "W1=0*InRad\n",
    "W2=180*InRad\n",
    "w1=45*InRad\n",
    "w2=0*InRad"
   ]
  },
  {
   "cell_type": "markdown",
   "metadata": {},
   "source": [
    "# Naoz's quadrupolar Hamiltonian"
   ]
  },
  {
   "cell_type": "code",
   "execution_count": 32,
   "metadata": {
    "collapsed": false
   },
   "outputs": [],
   "source": [
    "def L1(bulk,orbi):\n",
    "    m1=bulk[0]\n",
    "    m2=bulk[1]\n",
    "    a1=orbi[0]\n",
    "    value=m1*m2/(m1+m2) * (G*(m1+m2)*a1)**0.5\n",
    "    return value\n",
    "\n",
    "def L2(bulk,orbi):\n",
    "    m1=bulk[0]\n",
    "    m2=bulk[1]\n",
    "    m3=bulk[2]\n",
    "    a2=orbi[1]\n",
    "    value=m3*(m1+m2)/(m1+m2+m3) * (G*(m1+m2+m3)*a2)**0.5\n",
    "    return value\n",
    "\n",
    "def G1(bulk,e1):\n",
    "    value=L1(bulk,orbi)*(1-e1**2)**0.5\n",
    "    return value\n",
    "\n",
    "def G2(bulk,orbi):\n",
    "    e2=orbi[3]\n",
    "    value=L1(bulk,orbi)*(1-e2**2)**0.5\n",
    "    return value\n",
    "\n",
    "bulk=[m1,m2,m3]\n",
    "orbi=[a1,a2,e1,e2,I1,I2,W1,W2,w1,w2]\n",
    "\n",
    "def HN(bulk,orbi,e1):\n",
    "    \n",
    "    m1=bulk[0]\n",
    "    m2=bulk[1]\n",
    "    m3=bulk[2]\n",
    "    a1=orbi[0]\n",
    "    a2=orbi[1]\n",
    "    e2=orbi[3]\n",
    "    I1=orbi[4]\n",
    "    I2=orbi[5]\n",
    "    W1=orbi[6]\n",
    "    W2=orbi[7]\n",
    "    w1=orbi[8]\n",
    "    w2=orbi[9]\n",
    "    \n",
    "    DW = W2-W1\n",
    "    \n",
    "    C2=G**2/16 * (m1+m2)**7/(m1+m2+m3)**3 * m3**7/(m1*m2)**3 * L1(bulk,orbi)**4/(L2(bulk,orbi)**3 * G2(bulk,orbi)**3)\n",
    "    \n",
    "    value=C2/8*((1+3*np.cos(2*I2))*((2+3*e1**2)*(1+3*np.cos(2*I1))+30*e1**2*np.cos(2*w1)*np.sin(I1)**2) + \n",
    "               3*np.cos(2*DW)*(10*e1**2*np.cos(2*w1)*(3+np.cos(2*I1))+4*(2+3e1**2)*np.sin(I1)**2)*np.sin(I2)**2 + \n",
    "               12*(2+3*e1**2-5*e1**2*np.cos(2*w1))*np.cos(DW)*np.sin(2*I1)*np.sin(2*I2) + \n",
    "               120*e1**2*np.sin(I1)*np.sin(2*I2)*np.sin(2*w1)*np.sin(DW) - \n",
    "               120*e1**2*np.cos(I1)*np.sin(I2)**2*np.sin(2*w1)*np.sin(2*DW))\n",
    "    \n",
    "    return value"
   ]
  },
  {
   "cell_type": "markdown",
   "metadata": {},
   "source": [
    "# Derived quadrupolar Hamiltonian"
   ]
  },
  {
   "cell_type": "markdown",
   "metadata": {},
   "source": [
    "# Plotting"
   ]
  },
  {
   "cell_type": "code",
   "execution_count": 76,
   "metadata": {
    "collapsed": false
   },
   "outputs": [
    {
     "data": {
      "image/png": "[encoded data removed]",
      "text/plain": [
       "<Figure size 432x288 with 1 Axes>"
      ]
     },
     "metadata": {},
     "output_type": "display_data"
    }
   ],
   "source": [
    "e1=np.linspace(0.01,0.9,100)\n",
    "\n",
    "fig=plt.figure()\n",
    "ax=plt.axes()\n",
    "ax.plot(e1,HN(bulk,orbi,e1)/1e36)\n",
    "ax.set_xlabel(r'$e_1$',fontsize=20)\n",
    "ax.set_ylabel(r'$\\mathcal{H}_{quad}$',fontsize=20)\n",
    "ax.set_xlim(min(e1),max(e1))\n",
    "ax.grid(alpha=0.5,linestyle='dashed')\n",
    "plt.show()\n"
   ]
  },
  {
   "cell_type": "code",
   "execution_count": null,
   "metadata": {
    "collapsed": true
   },
   "outputs": [],
   "source": []
  }
 ],
 "metadata": {
  "kernelspec": {
   "display_name": "Python 3",
   "language": "python",
   "name": "python3"
  },
  "language_info": {
   "codemirror_mode": {
    "name": "ipython",
    "version": 3
   },
   "file_extension": ".py",
   "mimetype": "text/x-python",
   "name": "python",
   "nbconvert_exporter": "python",
   "pygments_lexer": "ipython3",
   "version": "3.6.0"
  }
 },
 "nbformat": 4,
 "nbformat_minor": 2
}
