{
 "cells": [
  {
   "cell_type": "code",
   "execution_count": 1,
   "metadata": {
    "collapsed": false
   },
   "outputs": [
    {
     "name": "stdout",
     "output_type": "stream",
     "text": [
      "Parametros iniciales\n",
      "e1\t e2\t I1[rad]\t I2[rad]\t w1[rad]\t w2[rad]\n",
      "\n",
      "0.100\t 0.600\t 1.1292280\t 0.0052360\t 0.78540\t\t 0.00000\t\n"
     ]
    }
   ],
   "source": [
    "import numpy as np\n",
    "import matplotlib.pyplot as plt\n",
    "\n",
    "G=6.67e-11\n",
    "Msun=1.989e30\n",
    "Mjup=1.898e27\n",
    "AU=149.6e9\n",
    "InRad=np.pi/180\n",
    "\n",
    "m1=1*Msun\n",
    "m2=1*Mjup\n",
    "m3=40*Mjup\n",
    "\n",
    "a1=6*AU\n",
    "a2=100*AU\n",
    "e1=0.1\n",
    "e2=0.6\n",
    "I1=64.7*InRad\n",
    "I2=0.3*InRad\n",
    "W1=0*InRad\n",
    "W2=180*InRad\n",
    "w1=45*InRad\n",
    "w2=0*InRad\n",
    "DW=0.0\n",
    "f1=45.0*InRad\n",
    "f2=45.0*InRad\n",
    "\n",
    "print(\"Parametros iniciales\")\n",
    "print(\"e1\\t e2\\t I1[rad]\\t I2[rad]\\t w1[rad]\\t w2[rad]\\n\")\n",
    "print(\"%.3f\\t %.3f\\t %.7f\\t %.7f\\t %.5f\\t\\t %.5f\\t\"%(e1,e2,I1,I2,w1,w2))\n"
   ]
  },
  {
   "cell_type": "code",
   "execution_count": 2,
   "metadata": {
    "collapsed": false
   },
   "outputs": [],
   "source": [
    "A1=np.cos(I1)*np.cos(I2)*np.cos(DW)+np.sin(I1)*np.sin(I2)\n",
    "A2=np.sin(DW)*np.cos(I1)\n",
    "A3=np.cos(I2)*np.sin(DW)\n",
    "A4=np.cos(DW)\n",
    "\n",
    "D1=A1*np.sin(w2)-A2*np.cos(w2)\n",
    "D2=A3*np.sin(w2)+A4*np.cos(w2)\n",
    "D3=A3*np.cos(w2)-A4*np.sin(w2)\n",
    "D4=A1*np.cos(w2)+A2*np.sin(w2)\n",
    "\n",
    "k1=D1*np.cos(w1)-D2*np.sin(w1)\n",
    "k2=D1*np.sin(w1)+D2*np.cos(w1)\n",
    "k3=D3*np.cos(w1)+D4*np.sin(w1)\n",
    "k4=D4*np.cos(w1)-D3*np.sin(w1)\n",
    "\n",
    "C3=k1*np.sin(f1)+k2*np.cos(f1)\n",
    "C4=k3*np.cos(f1)+k4*np.sin(f1)\n",
    "\n",
    "\n",
    "\n"
   ]
  },
  {
   "cell_type": "markdown",
   "metadata": {},
   "source": [
    "# Naoz's quadrupolar Hamiltonian"
   ]
  },
  {
   "cell_type": "code",
   "execution_count": 3,
   "metadata": {
    "collapsed": false
   },
   "outputs": [],
   "source": [
    "def L1(bulk,orbi):\n",
    "    m1=bulk[0]\n",
    "    m2=bulk[1]\n",
    "    a1=orbi[0]\n",
    "    value=m1*m2/(m1+m2) * (G*(m1+m2)*a1)**0.5\n",
    "    return value\n",
    "\n",
    "def L2(bulk,orbi):\n",
    "    m1=bulk[0]\n",
    "    m2=bulk[1]\n",
    "    m3=bulk[2]\n",
    "    a2=orbi[1]\n",
    "    value=m3*(m1+m2)/(m1+m2+m3) * (G*(m1+m2+m3)*a2)**0.5\n",
    "    return value\n",
    "\n",
    "def G1(bulk,e1):\n",
    "    value=L1(bulk,orbi)*(1-e1**2)**0.5\n",
    "    return value\n",
    "\n",
    "def G2(bulk,orbi):\n",
    "    e2=orbi[3]\n",
    "    value=L1(bulk,orbi)*(1-e2**2)**0.5\n",
    "    return value\n",
    "\n",
    "def beta1(bulk,orbi):\n",
    "    m1=bulk[0]\n",
    "    m2=bulk[1]\n",
    "    m3=bulk[2]\n",
    "    a1=orbi[0]\n",
    "    value=G*m1*m2*L1(bulk,orbi)**2/a1\n",
    "    return value\n",
    "\n",
    "def beta2(bulk,orbi):\n",
    "    m1=bulk[0]\n",
    "    m2=bulk[1]\n",
    "    m3=bulk[2]\n",
    "    a2=orbi[1]\n",
    "    value=G*(m1+m2)*m3*L2(bulk,orbi)**2/a2\n",
    "    return value\n",
    "\n",
    "def beta3(bulk):\n",
    "    m1=bulk[0]\n",
    "    m2=bulk[1]\n",
    "    m3=bulk[2]\n",
    "    value=G**2/16.0 * (m1+m2)**7/(m1+m2+m3)**3 * m3**7/(m1*m2)**3\n",
    "    return value\n",
    "\n",
    "def beta4(bulk):\n",
    "    m1=bulk[0]\n",
    "    m2=bulk[1]\n",
    "    m3=bulk[2]\n",
    "    value=G**2/4.0 * (m1+m2)**9/(m1+m2+m3)**4 * (m3**9*(m1-m2)/(m1*m2)**5)\n",
    "    return value\n",
    "\n",
    "\n",
    "    \n",
    "bulk=[m1,m2,m3]\n",
    "orbi=[a1,a2,e1,e2,I1,I2,W1,W2,w1,w2]\n",
    "\n",
    "m1=bulk[0]\n",
    "m2=bulk[1]\n",
    "m3=bulk[2]\n",
    "\n",
    "\n",
    "def HN(bulk,orbi,e1):\n",
    "    \n",
    "    m1=bulk[0]\n",
    "    m2=bulk[1]\n",
    "    m3=bulk[2]\n",
    "    a1=orbi[0]\n",
    "    a2=orbi[1]\n",
    "    e2=orbi[3]\n",
    "    I1=orbi[4]\n",
    "    I2=orbi[5]\n",
    "    W1=orbi[6]\n",
    "    W2=orbi[7]\n",
    "    w1=orbi[8]\n",
    "    w2=orbi[9]\n",
    "    \n",
    "    DW = W2-W1\n",
    "    \n",
    "    C2=G**2/16 * (m1+m2)**7/(m1+m2+m3)**3 * m3**7/(m1*m2)**3 * L1(bulk,orbi)**4/(L2(bulk,orbi)**3 * G2(bulk,orbi)**3)\n",
    "    \n",
    "    value=C2/8*((1+3*np.cos(2*I2))*((2+3*e1**2)*(1+3*np.cos(2*I1))+30*e1**2*np.cos(2*w1)*np.sin(I1)**2) + \n",
    "               3*np.cos(2*DW)*(10*e1**2*np.cos(2*w1)*(3+np.cos(2*I1))+4*(2+3*e1**2)*np.sin(I1)**2)*np.sin(I2)**2 + \n",
    "               12*(2+3*e1**2-5*e1**2*np.cos(2*w1))*np.cos(DW)*np.sin(2*I1)*np.sin(2*I2) + \n",
    "               120*e1**2*np.sin(I1)*np.sin(2*I2)*np.sin(2*w1)*np.sin(DW) - \n",
    "               120*e1**2*np.cos(I1)*np.sin(I2)**2*np.sin(2*w1)*np.sin(2*DW))\n",
    "    \n",
    "    return value\n",
    "\n",
    "\n"
   ]
  },
  {
   "cell_type": "markdown",
   "metadata": {},
   "source": [
    "# Derived Hamiltonian"
   ]
  },
  {
   "cell_type": "code",
   "execution_count": 4,
   "metadata": {
    "collapsed": false
   },
   "outputs": [],
   "source": [
    "def Hderived(bulk,orbi,e1,q_quad,q_oct):\n",
    "    \n",
    "    m1=bulk[0]\n",
    "    m2=bulk[1]\n",
    "    m3=bulk[2]\n",
    "    a1=orbi[0]\n",
    "    a2=orbi[1]\n",
    "    e2=orbi[3]\n",
    "    I1=orbi[4]\n",
    "    I2=orbi[5]\n",
    "    W1=orbi[6]\n",
    "    W2=orbi[7]\n",
    "    w1=orbi[8]\n",
    "    w2=orbi[9]\n",
    "    \n",
    "    DW = W2-W1\n",
    "\n",
    "    pre_factor_1=2*beta3(bulk)*(L1(bulk,orbi)**4/L2(bulk,orbi)**6)*(1-e2**2)**(-1.5) # Después de dividir por 4\\pi^2\n",
    "    factor_1=(-4+3*k1**2+3*k2**2+3*k3**2+3*k4**2-3*e1**2*(2+k1**2-4*k2**2-4*k3**2+k4**2))\n",
    "    Hquad=pre_factor_1*factor_1\n",
    "    \n",
    "    pre_factor_2 = (15/16.)*(1-e2**2)**(-2.5)*beta4(bulk)*((L1(bulk,orbi)/L2(bulk,orbi))**6 * 1.0/L2(bulk,orbi)**2)\n",
    "    factor_2 = -e2*e1*(5*(3+4*e1**2)*k2**3-10*(-1+e1**2)*k1*k3*k4 + \n",
    "                      k2*(-16+15*k1**2+15*k3**2+5*k4**2-e1**2*(12+15*k1**2-20*k3**2+5*k4**2)))\n",
    "    Hoct = pre_factor_2*factor_2\n",
    "    \n",
    "    return q_quad*Hquad + q_oct*Hoct\n",
    "\n",
    "\n"
   ]
  },
  {
   "cell_type": "markdown",
   "metadata": {},
   "source": [
    "# Hamiltonian Hamers 2012"
   ]
  },
  {
   "cell_type": "code",
   "execution_count": 5,
   "metadata": {
    "collapsed": false
   },
   "outputs": [],
   "source": [
    "Cquad=(1/16.)*G*m1*m2*m3/((m1+m2)*a2)*(a1/a2)**2 *(1-e2**2)**-1.5\n",
    "Coct = -15./16*G/4 * m1*m2*m3/(m1+m2)**2*(m1-m2)*(a1/a2)**3 * 1.0/a2 * (1-e2**2)**(-2.5)\n",
    "\n",
    "Da=np.cos(DW)\n",
    "Db=np.cos(I1)*np.sin(DW)\n",
    "Dc=np.cos(I2)*np.sin(DW)\n",
    "Dd=np.cos(I1)*np.cos(I2)*np.cos(DW)+np.sin(I1)*np.sin(I2)\n",
    "\n",
    "Za=Da*np.cos(w1)*np.cos(w2)-Db*np.sin(w1)*np.cos(w2)+Dc*np.cos(w1)*np.sin(w2)+Dd*np.sin(w1)*np.sin(w2)\n",
    "Zb=-Da*np.sin(w1)*np.cos(w2)-Db*np.cos(w1)*np.cos(w2)-Dc*np.sin(w1)*np.sin(w2)+Dd*np.cos(w1)*np.sin(w2)\n",
    "Zc=-Da*np.cos(w1)*np.sin(w2)+Db*np.sin(w1)*np.sin(w2)+Dc*np.cos(w1)*np.cos(w2)+Dd*np.sin(w1)*np.cos(w2)\n",
    "Zd=Da*np.sin(w1)*np.sin(w2)+Db*np.cos(w1)*np.sin(w2)-Dc*np.sin(w1)*np.cos(w2)+Dd*np.cos(w1)*np.cos(w2)\n",
    "\n",
    "Aa = Za*np.cos(f1)+Zb*np.sin(f1)\n",
    "Ab = Zc*np.cos(f1)+Zd*np.sin(f1)\n",
    "\n",
    "def HH(bulk,orbi,e1,q_quad,q_oct):\n",
    "    \n",
    "    m1=bulk[0]\n",
    "    m2=bulk[1]\n",
    "    m3=bulk[2]\n",
    "    a1=orbi[0]\n",
    "    a2=orbi[1]\n",
    "    e2=orbi[3]\n",
    "    I1=orbi[4]\n",
    "    I2=orbi[5]\n",
    "    W1=orbi[6]\n",
    "    W2=orbi[7]\n",
    "    w1=orbi[8]\n",
    "    w2=orbi[9]\n",
    "    \n",
    "    DW = W2-W1\n",
    "    \n",
    "    Hquad = Cquad*(6*(Za**2+Zc**2)*(1+4*e1**2)+6*(Zb**2+Zd**2)*(1-e1**2)-4*(2+3*e1**2))\n",
    "    Hoct = Coct*e1*e2*(Za*(5*(3+4*e1**2)*(Za**2+Zc**2)-4*(3*e1**2+4))\n",
    "                       +5*(1-e1**2)*(3*Za*Zb**2+Za*Zd**2+2*Zb*Zc*Zd))\n",
    "    \n",
    "\n",
    "    \n",
    "    return q_quad*Hquad+q_oct*Hoct\n",
    "    \n",
    "\n",
    " "
   ]
  },
  {
   "cell_type": "code",
   "execution_count": 6,
   "metadata": {
    "collapsed": false
   },
   "outputs": [
    {
     "ename": "TypeError",
     "evalue": "Hderived() missing 2 required positional arguments: 'q_quad' and 'q_oct'",
     "output_type": "error",
     "traceback": [
      "\u001b[0;31m---------------------------------------------------------------------------\u001b[0m",
      "\u001b[0;31mTypeError\u001b[0m                                 Traceback (most recent call last)",
      "\u001b[0;32m<ipython-input-6-e6fc06262ce1>\u001b[0m in \u001b[0;36m<module>\u001b[0;34m()\u001b[0m\n\u001b[0;32m----> 1\u001b[0;31m \u001b[0mprint\u001b[0m\u001b[0;34m(\u001b[0m\u001b[0;34m\"H derivado = %.16e\"\u001b[0m\u001b[0;34m%\u001b[0m\u001b[0mHderived\u001b[0m\u001b[0;34m(\u001b[0m\u001b[0mbulk\u001b[0m\u001b[0;34m,\u001b[0m\u001b[0morbi\u001b[0m\u001b[0;34m,\u001b[0m\u001b[0;36m0.1\u001b[0m\u001b[0;34m)\u001b[0m\u001b[0;34m)\u001b[0m\u001b[0;34m\u001b[0m\u001b[0m\n\u001b[0m\u001b[1;32m      2\u001b[0m \u001b[0mprint\u001b[0m\u001b[0;34m(\u001b[0m\u001b[0;34m\"H Naoz = %.16e\"\u001b[0m\u001b[0;34m%\u001b[0m\u001b[0mHN\u001b[0m\u001b[0;34m(\u001b[0m\u001b[0mbulk\u001b[0m\u001b[0;34m,\u001b[0m\u001b[0morbi\u001b[0m\u001b[0;34m,\u001b[0m\u001b[0;36m0.1\u001b[0m\u001b[0;34m)\u001b[0m\u001b[0;34m)\u001b[0m\u001b[0;34m\u001b[0m\u001b[0m\n\u001b[1;32m      3\u001b[0m \u001b[0mprint\u001b[0m\u001b[0;34m(\u001b[0m\u001b[0;34m\"H hamers = %.16e\"\u001b[0m\u001b[0;34m%\u001b[0m\u001b[0mHH\u001b[0m\u001b[0;34m(\u001b[0m\u001b[0mbulk\u001b[0m\u001b[0;34m,\u001b[0m\u001b[0morbi\u001b[0m\u001b[0;34m,\u001b[0m\u001b[0;36m0.1\u001b[0m\u001b[0;34m)\u001b[0m\u001b[0;34m)\u001b[0m\u001b[0;34m\u001b[0m\u001b[0m\n\u001b[1;32m      4\u001b[0m \u001b[0mprint\u001b[0m\u001b[0;34m(\u001b[0m\u001b[0mHH\u001b[0m\u001b[0;34m(\u001b[0m\u001b[0mbulk\u001b[0m\u001b[0;34m,\u001b[0m\u001b[0morbi\u001b[0m\u001b[0;34m,\u001b[0m\u001b[0;36m0.1\u001b[0m\u001b[0;34m)\u001b[0m\u001b[0;34m/\u001b[0m\u001b[0mHderived\u001b[0m\u001b[0;34m(\u001b[0m\u001b[0mbulk\u001b[0m\u001b[0;34m,\u001b[0m\u001b[0morbi\u001b[0m\u001b[0;34m,\u001b[0m\u001b[0;36m0.1\u001b[0m\u001b[0;34m)\u001b[0m\u001b[0;34m)\u001b[0m\u001b[0;34m\u001b[0m\u001b[0m\n",
      "\u001b[0;31mTypeError\u001b[0m: Hderived() missing 2 required positional arguments: 'q_quad' and 'q_oct'"
     ]
    }
   ],
   "source": [
    "print(\"H derivado = %.16e\"%Hderived(bulk,orbi,0.1))\n",
    "print(\"H Naoz = %.16e\"%HN(bulk,orbi,0.1))\n",
    "print(\"H hamers = %.16e\"%HH(bulk,orbi,0.1))\n",
    "print(HH(bulk,orbi,0.1)/Hderived(bulk,orbi,0.1))"
   ]
  },
  {
   "cell_type": "markdown",
   "metadata": {},
   "source": [
    "# Plotting"
   ]
  },
  {
   "cell_type": "code",
   "execution_count": 55,
   "metadata": {
    "collapsed": false
   },
   "outputs": [
    {
     "data": {
      "image/png": "[encoded data removed]",
      "text/plain": [
       "<Figure size 576x576 with 1 Axes>"
      ]
     },
     "metadata": {},
     "output_type": "display_data"
    }
   ],
   "source": [
    "\n",
    "e1=np.linspace(0.01,0.99,100)\n",
    "\n",
    "\n",
    "# Fancy font. If warning are deployed, uncomment the following two lines\n",
    "# import warnings\n",
    "# warnings.filterwarnings(\"show\")\n",
    "plt.rc('font', **{'family': 'family', 'family': ['serif']})\n",
    "plt.rc('text', usetex=True) #uses Latex instead of Tex to compile axes labels\n",
    "\n",
    "\n",
    "fig=plt.figure(figsize=(8,8))\n",
    "ax=plt.axes()\n",
    "#ax.plot(e1,HN(bulk,orbi,e1)/1e36,label='Hamiltoniano Naoz')\n",
    "ax.plot(e1,Hderived(bulk,orbi,e1,1,0)/1e29,':',label='Quadrupolar contribution',linewidth=2.0)\n",
    "ax.plot(e1,Hderived(bulk,orbi,e1,0,1)/1e29,'--',label='Octupolar contribution',linewidth=2.0)\n",
    "ax.plot(e1,Hderived(bulk,orbi,e1,1,1)/1e29,'-',label='Total Hamiltonian',linewidth=2.0)\n",
    "#ax.plot(e1,HH(bulk,orbi,e1,1,1),label='Hamiltoniano Hamers')\n",
    "ax.legend(fontsize='x-large')\n",
    "\n",
    "ax.set_xlabel(\"$e_1$\",fontsize=20)\n",
    "ax.set_ylabel('$\\mathrm{Energy}/10^{29}$ [Joules]',fontsize=20)\n",
    "\n",
    "ax.set_xlim(0.0,1.0)\n",
    "\n",
    "ax.grid(alpha=0.5,linestyle='dashed')\n",
    "\n",
    "ax.tick_params(direction='in',labelsize=20)\n",
    "\n",
    "fig.savefig(\"prueba_2.eps\")\n",
    "plt.show()\n"
   ]
  },
  {
   "cell_type": "markdown",
   "metadata": {},
   "source": [
    "# Hamers 2012"
   ]
  },
  {
   "cell_type": "code",
   "execution_count": null,
   "metadata": {
    "collapsed": false
   },
   "outputs": [],
   "source": [
    "\n",
    "\n",
    "H_quad_hamers=8.0*Cquad*((1-e1**2)/(1+e1*np.cos(f1)))**2 * (1.5*Aa**2 + 1.5*Ab**2 - 1)\n",
    "factor1_hamers=(1.5*Aa**2 + 1.5*Ab**2 - 1)\n",
    "#H_quad_hamers=(1.5*Aa**2 + 1.5*Ab**2 - 1)\n",
    "\n",
    "print(H_quad_hamers)"
   ]
  },
  {
   "cell_type": "markdown",
   "metadata": {},
   "source": [
    "# Portilla-Revelo 2018"
   ]
  },
  {
   "cell_type": "code",
   "execution_count": null,
   "metadata": {
    "collapsed": false
   },
   "outputs": [],
   "source": [
    "\n",
    "\n",
    "\n",
    "print(\"A1=%.16f\"%A1)\n",
    "print(\"A2=%.16f\"%A2)\n",
    "print(\"A3=%.16f\"%A3)\n",
    "print(\"A4=%.16f\"%A4)\n",
    "print(\"\\n\")\n",
    "print(\"D1=%.16f\"%D1)\n",
    "print(\"D2=%.16f\"%D2)\n",
    "print(\"D3=%.16f\"%D3)\n",
    "print(\"D4=%.16f\"%D4)\n",
    "print(\"\\n\")\n",
    "\n",
    "print(\"k1=%.16f\"%k1)\n",
    "print(\"k2=%.16f\"%k2)\n",
    "print(\"k3=%.16f\"%k3)\n",
    "print(\"k4=%.16f\"%k4)\n",
    "print(\"\\n\")\n",
    "print(\"Za=%.16f\"%Za)\n",
    "print(\"Zb=%.16f\"%Zb)\n",
    "print(\"Zc=%.16f\"%Zc)\n",
    "print(\"Zd=%.16f\"%Zd)\n",
    "print(\"\\n\")\n",
    "\n",
    "print(\"Aa=%.16f\"%Aa)\n",
    "print(\"Ab=%.16f\"%Ab)\n",
    "print(\"\\n\")\n",
    "print(\"C3=%.16f\"%C3)\n",
    "print(\"C4=%.16f\"%C4)\n",
    "\n",
    "\n",
    "Cphi_hamers=Aa*np.cos(f2)+Ab*np.sin(f2)\n",
    "Cphi_portilla=C3*np.cos(f2)+C4*np.sin(f2)\n",
    "\n",
    "\"\"\"\n",
    "factor1=-0.25*np.pi/(-1+e2**2)**3 * ((-8-12*e2**2+3*((4+9*e2**2)*k2**2+(4+3*e2**2)*k3**2)*np.cos(f1)**2 + \n",
    "                                            3*((4+9*e2**2)*k1**2+(4+3*e2**2)*k4**2)*np.sin(f1)**2+\n",
    "                                            12*k1*k2*np.sin(2*f1)+27*e2**2*k1*k2*np.sin(2*f1)+ \n",
    "                                            12*k3*k4*np.sin(2*f1)+9*e2**2*k3*k4*np.sin(2*f1)))\n",
    "\"\"\"\n",
    "\n",
    "factor1=-0.25/((-1+e2**2)**3)*np.pi*(4*(-2+3*C3**2+3*C4**2)+\n",
    "                                     3*(-4+9*C3**2+3*C4**2)*e2**2) \n",
    "factor2=(1-e1**2)/(1+e1*np.cos(f1))**2\n",
    "factor3=8*beta3(bulk)*(L1(bulk,orbi)**4/L2(bulk,orbi)**6)\n",
    "H_quad_portilla=factor1*factor2*factor3\n",
    "\n",
    "#print(Cquad)\n",
    "#print(factor3)\n",
    "\n",
    "#print(factor1)\n",
    "#print(f1)\n",
    "\n",
    "#print(\"H_quad_hamers=%.16e\"%H_quad_hamers)\n",
    "#print(\"H_quad_portilla=%.16e\"%H_quad_portilla)\n",
    "\n",
    "print(\"factor_1_portilla=%.16f\"%factor1)\n",
    "print(\"factor_1_hamers=%.16f\"%factor1_hamers)\n",
    "\n",
    "#print(\"Cphi_portilla=%.16f\"%Cphi_portilla)\n",
    "#print(\"Cphi_hamers=%.16f\"%Cphi_hamers)\n",
    "\n",
    "\n",
    "\n"
   ]
  },
  {
   "cell_type": "code",
   "execution_count": null,
   "metadata": {
    "collapsed": true
   },
   "outputs": [],
   "source": []
  }
 ],
 "metadata": {
  "kernelspec": {
   "display_name": "Python 3",
   "language": "python",
   "name": "python3"
  },
  "language_info": {
   "codemirror_mode": {
    "name": "ipython",
    "version": 3
   },
   "file_extension": ".py",
   "mimetype": "text/x-python",
   "name": "python",
   "nbconvert_exporter": "python",
   "pygments_lexer": "ipython3",
   "version": "3.6.0"
  }
 },
 "nbformat": 4,
 "nbformat_minor": 2
}
